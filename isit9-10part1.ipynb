{
 "cells": [
  {
   "cell_type": "code",
   "execution_count": null,
   "id": "initial_id",
   "metadata": {
    "collapsed": true
   },
   "outputs": [],
   "source": [
    "import math\n",
    "import numpy as np\n",
    "from scipy.optimize import minimize, approx_fprime, optimize\n",
    "from scipy.optimize import minimize, optimize\n",
    "\n",
    "# Определение функции Розенброка\n",
    "def rosen(x):\n",
    "    \n",
    "    return np.sum(100.0*(x[1:]-x[:-1]**2.0)**2.0 + (1-x[:-1])**2.0, axis=0)\n",
    "\n",
    "\n",
    "def rosen_der (x):\n",
    "    xm = x [1: -1]\n",
    "    xm_m1 = x [: - 2]\n",
    "    xm_p1 = x [2:]\n",
    "    der = np.zeros_like (x)\n",
    "    der [1: -1] = 200 * (xm-xm_m1 ** 2) - 400 * (xm_p1 - xm ** 2) * xm - 2 * (1-xm)\n",
    "    der [0] = -400 * x [0] * (x [1] -x [0] ** 2) - 2 * (1-x [0])\n",
    "    der [-1] = 200 * (x [-1] -x [-2] ** 2)\n",
    "    return der\n",
    "\n",
    "\n",
    "def rosen_hess(x):\n",
    "    x = np.asarray(x)\n",
    "    H = np.diag(-400*x[:-1],1) - np.diag(400*x[:-1],-1)\n",
    "    diagonal = np.zeros_like(x)\n",
    "    diagonal[0] = 1200*x[0]**2-400*x[1]+2\n",
    "    diagonal[-1] = 200\n",
    "    diagonal[1:-1] = 202 + 1200*x[1:-1]**2 - 400*x[2:]\n",
    "    H = H + np.diag(diagonal)\n",
    "    return H\n",
    "\n",
    "\n",
    "\n",
    "# Выполнение оптимизации с использованием классического алгоритма (Ньютона)\n",
    "newton_results = []\n",
    "newton_resultsr = []\n",
    "for _ in range(100):\n",
    "    x0 = np.array([1.3, 2])\n",
    "    x0r = np.random.randn(5)\n",
    "    resultr = minimize(rosen, x0r, method='Newton-CG',\n",
    "                   jac=rosen_der, hess=rosen_hess)\n",
    "    valuer = resultr.fun  # Значение функции соответствия\n",
    "    newton_resultsr.append(valuer)\n",
    "    result = minimize(rosen, x0, method='Newton-CG',\n",
    "                      jac=rosen_der, hess=rosen_hess)\n",
    "    value = result.fun  # Значение функции соответствия\n",
    "    newton_results.append(value)\n",
    "newton_meanr = np.mean(newton_resultsr)\n",
    "newton_variancer = np.var(newton_resultsr)\n",
    "newton_mean = np.mean(newton_results)\n",
    "newton_variance = np.var(newton_results)\n",
    "\n",
    "\n",
    "print(\"Алгоритм сопряженных градиентов (Ньютона) для случайных:\")\n",
    "print(\"Математическое ожидание:\", newton_meanr)\n",
    "print(\"Дисперсия:\", newton_variancer)\n",
    "print(x0r)\n",
    "print(\"Алгоритм сопряженных градиентов (Ньютона) для 1.3, 2 :\")\n",
    "print(\"Математическое ожидание:\", newton_mean)\n",
    "print(\"Дисперсия:\", newton_variance)\n",
    "print(x0)"
   ]
  }
 ],
 "metadata": {
  "kernelspec": {
   "display_name": "Python 3",
   "language": "python",
   "name": "python3"
  },
  "language_info": {
   "codemirror_mode": {
    "name": "ipython",
    "version": 2
   },
   "file_extension": ".py",
   "mimetype": "text/x-python",
   "name": "python",
   "nbconvert_exporter": "python",
   "pygments_lexer": "ipython2",
   "version": "2.7.6"
  }
 },
 "nbformat": 4,
 "nbformat_minor": 5
}
